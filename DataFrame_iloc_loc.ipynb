{
 "cells": [
  {
   "cell_type": "markdown",
   "metadata": {},
   "source": [
    "参考 https://www.shanelynn.ie/select-pandas-dataframe-rows-and-columns-using-iloc-loc-and-ix/\n",
    "\n"
   ]
  },
  {
   "cell_type": "code",
   "execution_count": 1,
   "metadata": {
    "collapsed": true
   },
   "outputs": [],
   "source": [
    "import numpy as np\n",
    "import pandas as pd\n",
    "import matplotlib.pyplot as plt\n",
    "%matplotlib inline"
   ]
  },
  {
   "cell_type": "code",
   "execution_count": 2,
   "metadata": {
    "collapsed": true
   },
   "outputs": [],
   "source": [
    "data = pd.read_csv('D:\\\\Service\\\\0-DATA\\\\uk-500.csv')"
   ]
  },
  {
   "cell_type": "code",
   "execution_count": 3,
   "metadata": {
    "collapsed": false
   },
   "outputs": [
    {
     "data": {
      "text/html": [
       "<div>\n",
       "<table border=\"1\" class=\"dataframe\">\n",
       "  <thead>\n",
       "    <tr style=\"text-align: right;\">\n",
       "      <th></th>\n",
       "      <th>first_name</th>\n",
       "      <th>last_name</th>\n",
       "      <th>company_name</th>\n",
       "      <th>address</th>\n",
       "      <th>city</th>\n",
       "      <th>county</th>\n",
       "      <th>postal</th>\n",
       "      <th>phone1</th>\n",
       "      <th>phone2</th>\n",
       "      <th>email</th>\n",
       "      <th>web</th>\n",
       "    </tr>\n",
       "  </thead>\n",
       "  <tbody>\n",
       "    <tr>\n",
       "      <th>0</th>\n",
       "      <td>Aleshia</td>\n",
       "      <td>Tomkiewicz</td>\n",
       "      <td>Alan D Rosenburg Cpa Pc</td>\n",
       "      <td>14 Taylor St</td>\n",
       "      <td>St. Stephens Ward</td>\n",
       "      <td>Kent</td>\n",
       "      <td>CT2 7PP</td>\n",
       "      <td>01835-703597</td>\n",
       "      <td>01944-369967</td>\n",
       "      <td>atomkiewicz@hotmail.com</td>\n",
       "      <td>http://www.alandrosenburgcpapc.co.uk</td>\n",
       "    </tr>\n",
       "    <tr>\n",
       "      <th>1</th>\n",
       "      <td>Evan</td>\n",
       "      <td>Zigomalas</td>\n",
       "      <td>Cap Gemini America</td>\n",
       "      <td>5 Binney St</td>\n",
       "      <td>Abbey Ward</td>\n",
       "      <td>Buckinghamshire</td>\n",
       "      <td>HP11 2AX</td>\n",
       "      <td>01937-864715</td>\n",
       "      <td>01714-737668</td>\n",
       "      <td>evan.zigomalas@gmail.com</td>\n",
       "      <td>http://www.capgeminiamerica.co.uk</td>\n",
       "    </tr>\n",
       "    <tr>\n",
       "      <th>2</th>\n",
       "      <td>France</td>\n",
       "      <td>Andrade</td>\n",
       "      <td>Elliott, John W Esq</td>\n",
       "      <td>8 Moor Place</td>\n",
       "      <td>East Southbourne and Tuckton W</td>\n",
       "      <td>Bournemouth</td>\n",
       "      <td>BH6 3BE</td>\n",
       "      <td>01347-368222</td>\n",
       "      <td>01935-821636</td>\n",
       "      <td>france.andrade@hotmail.com</td>\n",
       "      <td>http://www.elliottjohnwesq.co.uk</td>\n",
       "    </tr>\n",
       "    <tr>\n",
       "      <th>3</th>\n",
       "      <td>Ulysses</td>\n",
       "      <td>Mcwalters</td>\n",
       "      <td>Mcmahan, Ben L</td>\n",
       "      <td>505 Exeter Rd</td>\n",
       "      <td>Hawerby cum Beesby</td>\n",
       "      <td>Lincolnshire</td>\n",
       "      <td>DN36 5RP</td>\n",
       "      <td>01912-771311</td>\n",
       "      <td>01302-601380</td>\n",
       "      <td>ulysses@hotmail.com</td>\n",
       "      <td>http://www.mcmahanbenl.co.uk</td>\n",
       "    </tr>\n",
       "    <tr>\n",
       "      <th>4</th>\n",
       "      <td>Tyisha</td>\n",
       "      <td>Veness</td>\n",
       "      <td>Champagne Room</td>\n",
       "      <td>5396 Forth Street</td>\n",
       "      <td>Greets Green and Lyng Ward</td>\n",
       "      <td>West Midlands</td>\n",
       "      <td>B70 9DT</td>\n",
       "      <td>01547-429341</td>\n",
       "      <td>01290-367248</td>\n",
       "      <td>tyisha.veness@hotmail.com</td>\n",
       "      <td>http://www.champagneroom.co.uk</td>\n",
       "    </tr>\n",
       "    <tr>\n",
       "      <th>5</th>\n",
       "      <td>Eric</td>\n",
       "      <td>Rampy</td>\n",
       "      <td>Thompson, Michael C Esq</td>\n",
       "      <td>9472 Lind St</td>\n",
       "      <td>Desborough</td>\n",
       "      <td>Northamptonshire</td>\n",
       "      <td>NN14 2GH</td>\n",
       "      <td>01969-886290</td>\n",
       "      <td>01545-817375</td>\n",
       "      <td>erampy@rampy.co.uk</td>\n",
       "      <td>http://www.thompsonmichaelcesq.co.uk</td>\n",
       "    </tr>\n",
       "    <tr>\n",
       "      <th>6</th>\n",
       "      <td>Marg</td>\n",
       "      <td>Grasmick</td>\n",
       "      <td>Wrangle Hill Auto Auct &amp; Slvg</td>\n",
       "      <td>7457 Cowl St #70</td>\n",
       "      <td>Bargate Ward</td>\n",
       "      <td>Southampton</td>\n",
       "      <td>SO14 3TY</td>\n",
       "      <td>01865-582516</td>\n",
       "      <td>01362-620532</td>\n",
       "      <td>marg@hotmail.com</td>\n",
       "      <td>http://www.wranglehillautoauctslvg.co.uk</td>\n",
       "    </tr>\n",
       "    <tr>\n",
       "      <th>7</th>\n",
       "      <td>Laquita</td>\n",
       "      <td>Hisaw</td>\n",
       "      <td>In Communications Inc</td>\n",
       "      <td>20 Gloucester Pl #96</td>\n",
       "      <td>Chirton Ward</td>\n",
       "      <td>Tyne &amp; Wear</td>\n",
       "      <td>NE29 7AD</td>\n",
       "      <td>01746-394243</td>\n",
       "      <td>01590-982428</td>\n",
       "      <td>laquita@yahoo.com</td>\n",
       "      <td>http://www.incommunicationsinc.co.uk</td>\n",
       "    </tr>\n",
       "    <tr>\n",
       "      <th>8</th>\n",
       "      <td>Lura</td>\n",
       "      <td>Manzella</td>\n",
       "      <td>Bizerba Usa Inc</td>\n",
       "      <td>929 Augustine St</td>\n",
       "      <td>Staple Hill Ward</td>\n",
       "      <td>South Gloucestershire</td>\n",
       "      <td>BS16 4LL</td>\n",
       "      <td>01907-538509</td>\n",
       "      <td>01340-713951</td>\n",
       "      <td>lura@hotmail.com</td>\n",
       "      <td>http://www.bizerbausainc.co.uk</td>\n",
       "    </tr>\n",
       "    <tr>\n",
       "      <th>9</th>\n",
       "      <td>Yuette</td>\n",
       "      <td>Klapec</td>\n",
       "      <td>Max Video</td>\n",
       "      <td>45 Bradfield St #166</td>\n",
       "      <td>Parwich</td>\n",
       "      <td>Derbyshire</td>\n",
       "      <td>DE6 1QN</td>\n",
       "      <td>01903-649460</td>\n",
       "      <td>01933-512513</td>\n",
       "      <td>yuette.klapec@klapec.co.uk</td>\n",
       "      <td>http://www.maxvideo.co.uk</td>\n",
       "    </tr>\n",
       "  </tbody>\n",
       "</table>\n",
       "</div>"
      ],
      "text/plain": [
       "  first_name   last_name                   company_name               address  \\\n",
       "0    Aleshia  Tomkiewicz        Alan D Rosenburg Cpa Pc          14 Taylor St   \n",
       "1       Evan   Zigomalas             Cap Gemini America           5 Binney St   \n",
       "2     France     Andrade            Elliott, John W Esq          8 Moor Place   \n",
       "3    Ulysses   Mcwalters                 Mcmahan, Ben L         505 Exeter Rd   \n",
       "4     Tyisha      Veness                 Champagne Room     5396 Forth Street   \n",
       "5       Eric       Rampy        Thompson, Michael C Esq          9472 Lind St   \n",
       "6       Marg    Grasmick  Wrangle Hill Auto Auct & Slvg      7457 Cowl St #70   \n",
       "7    Laquita       Hisaw          In Communications Inc  20 Gloucester Pl #96   \n",
       "8       Lura    Manzella                Bizerba Usa Inc      929 Augustine St   \n",
       "9     Yuette      Klapec                      Max Video  45 Bradfield St #166   \n",
       "\n",
       "                             city                 county    postal  \\\n",
       "0               St. Stephens Ward                   Kent   CT2 7PP   \n",
       "1                      Abbey Ward        Buckinghamshire  HP11 2AX   \n",
       "2  East Southbourne and Tuckton W            Bournemouth   BH6 3BE   \n",
       "3              Hawerby cum Beesby           Lincolnshire  DN36 5RP   \n",
       "4      Greets Green and Lyng Ward          West Midlands   B70 9DT   \n",
       "5                      Desborough       Northamptonshire  NN14 2GH   \n",
       "6                    Bargate Ward            Southampton  SO14 3TY   \n",
       "7                    Chirton Ward            Tyne & Wear  NE29 7AD   \n",
       "8                Staple Hill Ward  South Gloucestershire  BS16 4LL   \n",
       "9                         Parwich             Derbyshire   DE6 1QN   \n",
       "\n",
       "         phone1        phone2                       email  \\\n",
       "0  01835-703597  01944-369967     atomkiewicz@hotmail.com   \n",
       "1  01937-864715  01714-737668    evan.zigomalas@gmail.com   \n",
       "2  01347-368222  01935-821636  france.andrade@hotmail.com   \n",
       "3  01912-771311  01302-601380         ulysses@hotmail.com   \n",
       "4  01547-429341  01290-367248   tyisha.veness@hotmail.com   \n",
       "5  01969-886290  01545-817375          erampy@rampy.co.uk   \n",
       "6  01865-582516  01362-620532            marg@hotmail.com   \n",
       "7  01746-394243  01590-982428           laquita@yahoo.com   \n",
       "8  01907-538509  01340-713951            lura@hotmail.com   \n",
       "9  01903-649460  01933-512513  yuette.klapec@klapec.co.uk   \n",
       "\n",
       "                                        web  \n",
       "0      http://www.alandrosenburgcpapc.co.uk  \n",
       "1         http://www.capgeminiamerica.co.uk  \n",
       "2          http://www.elliottjohnwesq.co.uk  \n",
       "3              http://www.mcmahanbenl.co.uk  \n",
       "4            http://www.champagneroom.co.uk  \n",
       "5      http://www.thompsonmichaelcesq.co.uk  \n",
       "6  http://www.wranglehillautoauctslvg.co.uk  \n",
       "7      http://www.incommunicationsinc.co.uk  \n",
       "8            http://www.bizerbausainc.co.uk  \n",
       "9                 http://www.maxvideo.co.uk  "
      ]
     },
     "execution_count": 3,
     "metadata": {},
     "output_type": "execute_result"
    }
   ],
   "source": [
    "data.head(10)"
   ]
  },
  {
   "cell_type": "code",
   "execution_count": 4,
   "metadata": {
    "collapsed": false
   },
   "outputs": [
    {
     "data": {
      "text/plain": [
       "(500, 11)"
      ]
     },
     "execution_count": 4,
     "metadata": {},
     "output_type": "execute_result"
    }
   ],
   "source": [
    "data.shape  # 共 500 行 11 列"
   ]
  },
  {
   "cell_type": "markdown",
   "metadata": {},
   "source": [
    "### 1. iloc 的使用   \n",
    "\n",
    "其实很简单，这里的索引和前面说的 NumPy 的索引一样，只用到一个方括号，然后是逗号、冒号。一共就这三个元素。\n",
    "\n",
    "其中逗号是分割行与列，即逗号前的是行，逗号后的是列。\n",
    "\n",
    "冒号是索引，记住在 Python 中一般索引的最后一个维度都是不包含，即左闭右开。\n",
    "\n",
    "这里关于 DataFrame 的 iloc 与 loc 一个很重要的就是如果传入的是一个整数就会返回 Series，\n",
    "传入的是个 list 返回的是 DataFrame，即注意 `5` 和 `[5]` 的区别，前者是个整数，后者是个列表。\n",
    "\n",
    "\n",
    "\n",
    "iloc 与 loc 中没有逗号都是选择行，有逗号前面选择行后面选择列"
   ]
  },
  {
   "cell_type": "code",
   "execution_count": 5,
   "metadata": {
    "collapsed": false
   },
   "outputs": [
    {
     "data": {
      "text/plain": [
       "first_name                                      Eric\n",
       "last_name                                      Rampy\n",
       "company_name                 Thompson, Michael C Esq\n",
       "address                                 9472 Lind St\n",
       "city                                      Desborough\n",
       "county                              Northamptonshire\n",
       "postal                                      NN14 2GH\n",
       "phone1                                  01969-886290\n",
       "phone2                                  01545-817375\n",
       "email                             erampy@rampy.co.uk\n",
       "web             http://www.thompsonmichaelcesq.co.uk\n",
       "Name: 5, dtype: object"
      ]
     },
     "execution_count": 5,
     "metadata": {},
     "output_type": "execute_result"
    }
   ],
   "source": [
    "data.iloc[5]  # 一个整数会返回 Series， 没有逗号只是选择行索引为 5 的行，但由于 5 是个整数，所以返回的是 Series"
   ]
  },
  {
   "cell_type": "code",
   "execution_count": 6,
   "metadata": {
    "collapsed": false
   },
   "outputs": [
    {
     "data": {
      "text/html": [
       "<div>\n",
       "<table border=\"1\" class=\"dataframe\">\n",
       "  <thead>\n",
       "    <tr style=\"text-align: right;\">\n",
       "      <th></th>\n",
       "      <th>first_name</th>\n",
       "      <th>last_name</th>\n",
       "      <th>company_name</th>\n",
       "      <th>address</th>\n",
       "      <th>city</th>\n",
       "      <th>county</th>\n",
       "      <th>postal</th>\n",
       "      <th>phone1</th>\n",
       "      <th>phone2</th>\n",
       "      <th>email</th>\n",
       "      <th>web</th>\n",
       "    </tr>\n",
       "  </thead>\n",
       "  <tbody>\n",
       "    <tr>\n",
       "      <th>5</th>\n",
       "      <td>Eric</td>\n",
       "      <td>Rampy</td>\n",
       "      <td>Thompson, Michael C Esq</td>\n",
       "      <td>9472 Lind St</td>\n",
       "      <td>Desborough</td>\n",
       "      <td>Northamptonshire</td>\n",
       "      <td>NN14 2GH</td>\n",
       "      <td>01969-886290</td>\n",
       "      <td>01545-817375</td>\n",
       "      <td>erampy@rampy.co.uk</td>\n",
       "      <td>http://www.thompsonmichaelcesq.co.uk</td>\n",
       "    </tr>\n",
       "  </tbody>\n",
       "</table>\n",
       "</div>"
      ],
      "text/plain": [
       "  first_name last_name             company_name       address        city  \\\n",
       "5       Eric     Rampy  Thompson, Michael C Esq  9472 Lind St  Desborough   \n",
       "\n",
       "             county    postal        phone1        phone2               email  \\\n",
       "5  Northamptonshire  NN14 2GH  01969-886290  01545-817375  erampy@rampy.co.uk   \n",
       "\n",
       "                                    web  \n",
       "5  http://www.thompsonmichaelcesq.co.uk  "
      ]
     },
     "execution_count": 6,
     "metadata": {},
     "output_type": "execute_result"
    }
   ],
   "source": [
    "data.iloc[[5]]  # 变成列表 [5] 后就会返回 DataFrame, 选择行索引为 5 的行"
   ]
  },
  {
   "cell_type": "code",
   "execution_count": 7,
   "metadata": {
    "collapsed": false
   },
   "outputs": [
    {
     "data": {
      "text/html": [
       "<div>\n",
       "<table border=\"1\" class=\"dataframe\">\n",
       "  <thead>\n",
       "    <tr style=\"text-align: right;\">\n",
       "      <th></th>\n",
       "      <th>first_name</th>\n",
       "      <th>last_name</th>\n",
       "      <th>company_name</th>\n",
       "      <th>address</th>\n",
       "      <th>city</th>\n",
       "      <th>county</th>\n",
       "      <th>postal</th>\n",
       "      <th>phone1</th>\n",
       "      <th>phone2</th>\n",
       "      <th>email</th>\n",
       "      <th>web</th>\n",
       "    </tr>\n",
       "  </thead>\n",
       "  <tbody>\n",
       "    <tr>\n",
       "      <th>2</th>\n",
       "      <td>France</td>\n",
       "      <td>Andrade</td>\n",
       "      <td>Elliott, John W Esq</td>\n",
       "      <td>8 Moor Place</td>\n",
       "      <td>East Southbourne and Tuckton W</td>\n",
       "      <td>Bournemouth</td>\n",
       "      <td>BH6 3BE</td>\n",
       "      <td>01347-368222</td>\n",
       "      <td>01935-821636</td>\n",
       "      <td>france.andrade@hotmail.com</td>\n",
       "      <td>http://www.elliottjohnwesq.co.uk</td>\n",
       "    </tr>\n",
       "    <tr>\n",
       "      <th>3</th>\n",
       "      <td>Ulysses</td>\n",
       "      <td>Mcwalters</td>\n",
       "      <td>Mcmahan, Ben L</td>\n",
       "      <td>505 Exeter Rd</td>\n",
       "      <td>Hawerby cum Beesby</td>\n",
       "      <td>Lincolnshire</td>\n",
       "      <td>DN36 5RP</td>\n",
       "      <td>01912-771311</td>\n",
       "      <td>01302-601380</td>\n",
       "      <td>ulysses@hotmail.com</td>\n",
       "      <td>http://www.mcmahanbenl.co.uk</td>\n",
       "    </tr>\n",
       "    <tr>\n",
       "      <th>4</th>\n",
       "      <td>Tyisha</td>\n",
       "      <td>Veness</td>\n",
       "      <td>Champagne Room</td>\n",
       "      <td>5396 Forth Street</td>\n",
       "      <td>Greets Green and Lyng Ward</td>\n",
       "      <td>West Midlands</td>\n",
       "      <td>B70 9DT</td>\n",
       "      <td>01547-429341</td>\n",
       "      <td>01290-367248</td>\n",
       "      <td>tyisha.veness@hotmail.com</td>\n",
       "      <td>http://www.champagneroom.co.uk</td>\n",
       "    </tr>\n",
       "  </tbody>\n",
       "</table>\n",
       "</div>"
      ],
      "text/plain": [
       "  first_name  last_name         company_name            address  \\\n",
       "2     France    Andrade  Elliott, John W Esq       8 Moor Place   \n",
       "3    Ulysses  Mcwalters       Mcmahan, Ben L      505 Exeter Rd   \n",
       "4     Tyisha     Veness       Champagne Room  5396 Forth Street   \n",
       "\n",
       "                             city         county    postal        phone1  \\\n",
       "2  East Southbourne and Tuckton W    Bournemouth   BH6 3BE  01347-368222   \n",
       "3              Hawerby cum Beesby   Lincolnshire  DN36 5RP  01912-771311   \n",
       "4      Greets Green and Lyng Ward  West Midlands   B70 9DT  01547-429341   \n",
       "\n",
       "         phone2                       email                               web  \n",
       "2  01935-821636  france.andrade@hotmail.com  http://www.elliottjohnwesq.co.uk  \n",
       "3  01302-601380         ulysses@hotmail.com      http://www.mcmahanbenl.co.uk  \n",
       "4  01290-367248   tyisha.veness@hotmail.com    http://www.champagneroom.co.uk  "
      ]
     },
     "execution_count": 7,
     "metadata": {},
     "output_type": "execute_result"
    }
   ],
   "source": [
    "data.iloc[2:5]  # 2:5 是切片，没有逗号，选择行索引， 选择行索引的范围是 2 到 5， 最后一个维度不包括在其中，左闭右开 "
   ]
  },
  {
   "cell_type": "code",
   "execution_count": 8,
   "metadata": {
    "collapsed": false
   },
   "outputs": [
    {
     "data": {
      "text/plain": [
       "1    5 Binney St\n",
       "Name: address, dtype: object"
      ]
     },
     "execution_count": 8,
     "metadata": {},
     "output_type": "execute_result"
    }
   ],
   "source": [
    "# Series result because only one column selected\n",
    "# 尽管行索引是个切片，但是后面的列索引是个整数，所以最后的结果还是返回 Series\n",
    "data.iloc[1:2, 3] "
   ]
  },
  {
   "cell_type": "code",
   "execution_count": 9,
   "metadata": {
    "collapsed": false
   },
   "outputs": [
    {
     "data": {
      "text/html": [
       "<div>\n",
       "<table border=\"1\" class=\"dataframe\">\n",
       "  <thead>\n",
       "    <tr style=\"text-align: right;\">\n",
       "      <th></th>\n",
       "      <th>address</th>\n",
       "    </tr>\n",
       "  </thead>\n",
       "  <tbody>\n",
       "    <tr>\n",
       "      <th>1</th>\n",
       "      <td>5 Binney St</td>\n",
       "    </tr>\n",
       "  </tbody>\n",
       "</table>\n",
       "</div>"
      ],
      "text/plain": [
       "       address\n",
       "1  5 Binney St"
      ]
     },
     "execution_count": 9,
     "metadata": {},
     "output_type": "execute_result"
    }
   ],
   "source": [
    "data.iloc[1:2, [3]]  # [3] 是个 list，返回 DataFrame"
   ]
  },
  {
   "cell_type": "code",
   "execution_count": 10,
   "metadata": {
    "collapsed": false
   },
   "outputs": [
    {
     "data": {
      "text/plain": [
       "1          5 Binney St\n",
       "2         8 Moor Place\n",
       "3        505 Exeter Rd\n",
       "4    5396 Forth Street\n",
       "Name: address, dtype: object"
      ]
     },
     "execution_count": 10,
     "metadata": {},
     "output_type": "execute_result"
    }
   ],
   "source": [
    "data.iloc[1:5, 3]"
   ]
  },
  {
   "cell_type": "code",
   "execution_count": 11,
   "metadata": {
    "collapsed": false
   },
   "outputs": [
    {
     "data": {
      "text/html": [
       "<div>\n",
       "<table border=\"1\" class=\"dataframe\">\n",
       "  <thead>\n",
       "    <tr style=\"text-align: right;\">\n",
       "      <th></th>\n",
       "      <th>address</th>\n",
       "    </tr>\n",
       "  </thead>\n",
       "  <tbody>\n",
       "    <tr>\n",
       "      <th>1</th>\n",
       "      <td>5 Binney St</td>\n",
       "    </tr>\n",
       "    <tr>\n",
       "      <th>2</th>\n",
       "      <td>8 Moor Place</td>\n",
       "    </tr>\n",
       "    <tr>\n",
       "      <th>3</th>\n",
       "      <td>505 Exeter Rd</td>\n",
       "    </tr>\n",
       "    <tr>\n",
       "      <th>4</th>\n",
       "      <td>5396 Forth Street</td>\n",
       "    </tr>\n",
       "  </tbody>\n",
       "</table>\n",
       "</div>"
      ],
      "text/plain": [
       "             address\n",
       "1        5 Binney St\n",
       "2       8 Moor Place\n",
       "3      505 Exeter Rd\n",
       "4  5396 Forth Street"
      ]
     },
     "execution_count": 11,
     "metadata": {},
     "output_type": "execute_result"
    }
   ],
   "source": [
    "data.iloc[1:5, [3]]"
   ]
  },
  {
   "cell_type": "code",
   "execution_count": 12,
   "metadata": {
    "collapsed": false
   },
   "outputs": [
    {
     "data": {
      "text/html": [
       "<div>\n",
       "<table border=\"1\" class=\"dataframe\">\n",
       "  <thead>\n",
       "    <tr style=\"text-align: right;\">\n",
       "      <th></th>\n",
       "      <th>address</th>\n",
       "      <th>city</th>\n",
       "      <th>county</th>\n",
       "    </tr>\n",
       "  </thead>\n",
       "  <tbody>\n",
       "    <tr>\n",
       "      <th>1</th>\n",
       "      <td>5 Binney St</td>\n",
       "      <td>Abbey Ward</td>\n",
       "      <td>Buckinghamshire</td>\n",
       "    </tr>\n",
       "    <tr>\n",
       "      <th>2</th>\n",
       "      <td>8 Moor Place</td>\n",
       "      <td>East Southbourne and Tuckton W</td>\n",
       "      <td>Bournemouth</td>\n",
       "    </tr>\n",
       "    <tr>\n",
       "      <th>3</th>\n",
       "      <td>505 Exeter Rd</td>\n",
       "      <td>Hawerby cum Beesby</td>\n",
       "      <td>Lincolnshire</td>\n",
       "    </tr>\n",
       "    <tr>\n",
       "      <th>4</th>\n",
       "      <td>5396 Forth Street</td>\n",
       "      <td>Greets Green and Lyng Ward</td>\n",
       "      <td>West Midlands</td>\n",
       "    </tr>\n",
       "  </tbody>\n",
       "</table>\n",
       "</div>"
      ],
      "text/plain": [
       "             address                            city           county\n",
       "1        5 Binney St                      Abbey Ward  Buckinghamshire\n",
       "2       8 Moor Place  East Southbourne and Tuckton W      Bournemouth\n",
       "3      505 Exeter Rd              Hawerby cum Beesby     Lincolnshire\n",
       "4  5396 Forth Street      Greets Green and Lyng Ward    West Midlands"
      ]
     },
     "execution_count": 12,
     "metadata": {},
     "output_type": "execute_result"
    }
   ],
   "source": [
    "data.iloc[1:5, 3:6]"
   ]
  },
  {
   "cell_type": "markdown",
   "metadata": {},
   "source": [
    "### 2. loc 的使用   \n",
    "\n",
    "The Pandas loc indexer can be used with DataFrames for two different use cases:\n",
    "\n",
    "- a.) Selecting rows by label/index  \n",
    "\n",
    "- b.) Selecting rows with a boolean / conditional lookup   \n",
    "\n",
    "The loc indexer is used with the same syntax as iloc:   \n",
    "`data.loc[<row selection>, <column selection>]` "
   ]
  },
  {
   "cell_type": "code",
   "execution_count": 13,
   "metadata": {
    "collapsed": false
   },
   "outputs": [],
   "source": [
    "dataNew = data.set_index('last_name')  # set 'last_name' as index"
   ]
  },
  {
   "cell_type": "code",
   "execution_count": 14,
   "metadata": {
    "collapsed": false
   },
   "outputs": [
    {
     "data": {
      "text/html": [
       "<div>\n",
       "<table border=\"1\" class=\"dataframe\">\n",
       "  <thead>\n",
       "    <tr style=\"text-align: right;\">\n",
       "      <th></th>\n",
       "      <th>first_name</th>\n",
       "      <th>company_name</th>\n",
       "      <th>address</th>\n",
       "      <th>city</th>\n",
       "      <th>county</th>\n",
       "      <th>postal</th>\n",
       "      <th>phone1</th>\n",
       "      <th>phone2</th>\n",
       "      <th>email</th>\n",
       "      <th>web</th>\n",
       "    </tr>\n",
       "    <tr>\n",
       "      <th>last_name</th>\n",
       "      <th></th>\n",
       "      <th></th>\n",
       "      <th></th>\n",
       "      <th></th>\n",
       "      <th></th>\n",
       "      <th></th>\n",
       "      <th></th>\n",
       "      <th></th>\n",
       "      <th></th>\n",
       "      <th></th>\n",
       "    </tr>\n",
       "  </thead>\n",
       "  <tbody>\n",
       "    <tr>\n",
       "      <th>Tomkiewicz</th>\n",
       "      <td>Aleshia</td>\n",
       "      <td>Alan D Rosenburg Cpa Pc</td>\n",
       "      <td>14 Taylor St</td>\n",
       "      <td>St. Stephens Ward</td>\n",
       "      <td>Kent</td>\n",
       "      <td>CT2 7PP</td>\n",
       "      <td>01835-703597</td>\n",
       "      <td>01944-369967</td>\n",
       "      <td>atomkiewicz@hotmail.com</td>\n",
       "      <td>http://www.alandrosenburgcpapc.co.uk</td>\n",
       "    </tr>\n",
       "    <tr>\n",
       "      <th>Zigomalas</th>\n",
       "      <td>Evan</td>\n",
       "      <td>Cap Gemini America</td>\n",
       "      <td>5 Binney St</td>\n",
       "      <td>Abbey Ward</td>\n",
       "      <td>Buckinghamshire</td>\n",
       "      <td>HP11 2AX</td>\n",
       "      <td>01937-864715</td>\n",
       "      <td>01714-737668</td>\n",
       "      <td>evan.zigomalas@gmail.com</td>\n",
       "      <td>http://www.capgeminiamerica.co.uk</td>\n",
       "    </tr>\n",
       "    <tr>\n",
       "      <th>Andrade</th>\n",
       "      <td>France</td>\n",
       "      <td>Elliott, John W Esq</td>\n",
       "      <td>8 Moor Place</td>\n",
       "      <td>East Southbourne and Tuckton W</td>\n",
       "      <td>Bournemouth</td>\n",
       "      <td>BH6 3BE</td>\n",
       "      <td>01347-368222</td>\n",
       "      <td>01935-821636</td>\n",
       "      <td>france.andrade@hotmail.com</td>\n",
       "      <td>http://www.elliottjohnwesq.co.uk</td>\n",
       "    </tr>\n",
       "    <tr>\n",
       "      <th>Mcwalters</th>\n",
       "      <td>Ulysses</td>\n",
       "      <td>Mcmahan, Ben L</td>\n",
       "      <td>505 Exeter Rd</td>\n",
       "      <td>Hawerby cum Beesby</td>\n",
       "      <td>Lincolnshire</td>\n",
       "      <td>DN36 5RP</td>\n",
       "      <td>01912-771311</td>\n",
       "      <td>01302-601380</td>\n",
       "      <td>ulysses@hotmail.com</td>\n",
       "      <td>http://www.mcmahanbenl.co.uk</td>\n",
       "    </tr>\n",
       "    <tr>\n",
       "      <th>Veness</th>\n",
       "      <td>Tyisha</td>\n",
       "      <td>Champagne Room</td>\n",
       "      <td>5396 Forth Street</td>\n",
       "      <td>Greets Green and Lyng Ward</td>\n",
       "      <td>West Midlands</td>\n",
       "      <td>B70 9DT</td>\n",
       "      <td>01547-429341</td>\n",
       "      <td>01290-367248</td>\n",
       "      <td>tyisha.veness@hotmail.com</td>\n",
       "      <td>http://www.champagneroom.co.uk</td>\n",
       "    </tr>\n",
       "  </tbody>\n",
       "</table>\n",
       "</div>"
      ],
      "text/plain": [
       "           first_name             company_name            address  \\\n",
       "last_name                                                           \n",
       "Tomkiewicz    Aleshia  Alan D Rosenburg Cpa Pc       14 Taylor St   \n",
       "Zigomalas        Evan       Cap Gemini America        5 Binney St   \n",
       "Andrade        France      Elliott, John W Esq       8 Moor Place   \n",
       "Mcwalters     Ulysses           Mcmahan, Ben L      505 Exeter Rd   \n",
       "Veness         Tyisha           Champagne Room  5396 Forth Street   \n",
       "\n",
       "                                      city           county    postal  \\\n",
       "last_name                                                               \n",
       "Tomkiewicz               St. Stephens Ward             Kent   CT2 7PP   \n",
       "Zigomalas                       Abbey Ward  Buckinghamshire  HP11 2AX   \n",
       "Andrade     East Southbourne and Tuckton W      Bournemouth   BH6 3BE   \n",
       "Mcwalters               Hawerby cum Beesby     Lincolnshire  DN36 5RP   \n",
       "Veness          Greets Green and Lyng Ward    West Midlands   B70 9DT   \n",
       "\n",
       "                  phone1        phone2                       email  \\\n",
       "last_name                                                            \n",
       "Tomkiewicz  01835-703597  01944-369967     atomkiewicz@hotmail.com   \n",
       "Zigomalas   01937-864715  01714-737668    evan.zigomalas@gmail.com   \n",
       "Andrade     01347-368222  01935-821636  france.andrade@hotmail.com   \n",
       "Mcwalters   01912-771311  01302-601380         ulysses@hotmail.com   \n",
       "Veness      01547-429341  01290-367248   tyisha.veness@hotmail.com   \n",
       "\n",
       "                                             web  \n",
       "last_name                                         \n",
       "Tomkiewicz  http://www.alandrosenburgcpapc.co.uk  \n",
       "Zigomalas      http://www.capgeminiamerica.co.uk  \n",
       "Andrade         http://www.elliottjohnwesq.co.uk  \n",
       "Mcwalters           http://www.mcmahanbenl.co.uk  \n",
       "Veness            http://www.champagneroom.co.uk  "
      ]
     },
     "execution_count": 14,
     "metadata": {},
     "output_type": "execute_result"
    }
   ],
   "source": [
    "dataNew.head()"
   ]
  },
  {
   "cell_type": "code",
   "execution_count": 15,
   "metadata": {
    "collapsed": false
   },
   "outputs": [
    {
     "data": {
      "text/plain": [
       "first_name                                France\n",
       "company_name                 Elliott, John W Esq\n",
       "address                             8 Moor Place\n",
       "city              East Southbourne and Tuckton W\n",
       "county                               Bournemouth\n",
       "postal                                   BH6 3BE\n",
       "phone1                              01347-368222\n",
       "phone2                              01935-821636\n",
       "email                 france.andrade@hotmail.com\n",
       "web             http://www.elliottjohnwesq.co.uk\n",
       "Name: Andrade, dtype: object"
      ]
     },
     "execution_count": 15,
     "metadata": {},
     "output_type": "execute_result"
    }
   ],
   "source": [
    "dataNew.loc['Andrade']  # String, 选择索引行，返回 Series"
   ]
  },
  {
   "cell_type": "code",
   "execution_count": 16,
   "metadata": {
    "collapsed": false
   },
   "outputs": [
    {
     "data": {
      "text/html": [
       "<div>\n",
       "<table border=\"1\" class=\"dataframe\">\n",
       "  <thead>\n",
       "    <tr style=\"text-align: right;\">\n",
       "      <th></th>\n",
       "      <th>first_name</th>\n",
       "      <th>company_name</th>\n",
       "      <th>address</th>\n",
       "      <th>city</th>\n",
       "      <th>county</th>\n",
       "      <th>postal</th>\n",
       "      <th>phone1</th>\n",
       "      <th>phone2</th>\n",
       "      <th>email</th>\n",
       "      <th>web</th>\n",
       "    </tr>\n",
       "    <tr>\n",
       "      <th>last_name</th>\n",
       "      <th></th>\n",
       "      <th></th>\n",
       "      <th></th>\n",
       "      <th></th>\n",
       "      <th></th>\n",
       "      <th></th>\n",
       "      <th></th>\n",
       "      <th></th>\n",
       "      <th></th>\n",
       "      <th></th>\n",
       "    </tr>\n",
       "  </thead>\n",
       "  <tbody>\n",
       "    <tr>\n",
       "      <th>Andrade</th>\n",
       "      <td>France</td>\n",
       "      <td>Elliott, John W Esq</td>\n",
       "      <td>8 Moor Place</td>\n",
       "      <td>East Southbourne and Tuckton W</td>\n",
       "      <td>Bournemouth</td>\n",
       "      <td>BH6 3BE</td>\n",
       "      <td>01347-368222</td>\n",
       "      <td>01935-821636</td>\n",
       "      <td>france.andrade@hotmail.com</td>\n",
       "      <td>http://www.elliottjohnwesq.co.uk</td>\n",
       "    </tr>\n",
       "  </tbody>\n",
       "</table>\n",
       "</div>"
      ],
      "text/plain": [
       "          first_name         company_name       address  \\\n",
       "last_name                                                 \n",
       "Andrade       France  Elliott, John W Esq  8 Moor Place   \n",
       "\n",
       "                                     city       county   postal        phone1  \\\n",
       "last_name                                                                       \n",
       "Andrade    East Southbourne and Tuckton W  Bournemouth  BH6 3BE  01347-368222   \n",
       "\n",
       "                 phone2                       email  \\\n",
       "last_name                                             \n",
       "Andrade    01935-821636  france.andrade@hotmail.com   \n",
       "\n",
       "                                        web  \n",
       "last_name                                    \n",
       "Andrade    http://www.elliottjohnwesq.co.uk  "
      ]
     },
     "execution_count": 16,
     "metadata": {},
     "output_type": "execute_result"
    }
   ],
   "source": [
    "dataNew.loc[['Andrade']]  # list of string，返回 DataFrame"
   ]
  },
  {
   "cell_type": "code",
   "execution_count": 17,
   "metadata": {
    "collapsed": false
   },
   "outputs": [
    {
     "data": {
      "text/html": [
       "<div>\n",
       "<table border=\"1\" class=\"dataframe\">\n",
       "  <thead>\n",
       "    <tr style=\"text-align: right;\">\n",
       "      <th></th>\n",
       "      <th>first_name</th>\n",
       "      <th>company_name</th>\n",
       "      <th>address</th>\n",
       "      <th>city</th>\n",
       "      <th>county</th>\n",
       "      <th>postal</th>\n",
       "      <th>phone1</th>\n",
       "      <th>phone2</th>\n",
       "      <th>email</th>\n",
       "      <th>web</th>\n",
       "    </tr>\n",
       "    <tr>\n",
       "      <th>last_name</th>\n",
       "      <th></th>\n",
       "      <th></th>\n",
       "      <th></th>\n",
       "      <th></th>\n",
       "      <th></th>\n",
       "      <th></th>\n",
       "      <th></th>\n",
       "      <th></th>\n",
       "      <th></th>\n",
       "      <th></th>\n",
       "    </tr>\n",
       "  </thead>\n",
       "  <tbody>\n",
       "    <tr>\n",
       "      <th>Andrade</th>\n",
       "      <td>France</td>\n",
       "      <td>Elliott, John W Esq</td>\n",
       "      <td>8 Moor Place</td>\n",
       "      <td>East Southbourne and Tuckton W</td>\n",
       "      <td>Bournemouth</td>\n",
       "      <td>BH6 3BE</td>\n",
       "      <td>01347-368222</td>\n",
       "      <td>01935-821636</td>\n",
       "      <td>france.andrade@hotmail.com</td>\n",
       "      <td>http://www.elliottjohnwesq.co.uk</td>\n",
       "    </tr>\n",
       "    <tr>\n",
       "      <th>Veness</th>\n",
       "      <td>Tyisha</td>\n",
       "      <td>Champagne Room</td>\n",
       "      <td>5396 Forth Street</td>\n",
       "      <td>Greets Green and Lyng Ward</td>\n",
       "      <td>West Midlands</td>\n",
       "      <td>B70 9DT</td>\n",
       "      <td>01547-429341</td>\n",
       "      <td>01290-367248</td>\n",
       "      <td>tyisha.veness@hotmail.com</td>\n",
       "      <td>http://www.champagneroom.co.uk</td>\n",
       "    </tr>\n",
       "  </tbody>\n",
       "</table>\n",
       "</div>"
      ],
      "text/plain": [
       "          first_name         company_name            address  \\\n",
       "last_name                                                      \n",
       "Andrade       France  Elliott, John W Esq       8 Moor Place   \n",
       "Veness        Tyisha       Champagne Room  5396 Forth Street   \n",
       "\n",
       "                                     city         county   postal  \\\n",
       "last_name                                                           \n",
       "Andrade    East Southbourne and Tuckton W    Bournemouth  BH6 3BE   \n",
       "Veness         Greets Green and Lyng Ward  West Midlands  B70 9DT   \n",
       "\n",
       "                 phone1        phone2                       email  \\\n",
       "last_name                                                           \n",
       "Andrade    01347-368222  01935-821636  france.andrade@hotmail.com   \n",
       "Veness     01547-429341  01290-367248   tyisha.veness@hotmail.com   \n",
       "\n",
       "                                        web  \n",
       "last_name                                    \n",
       "Andrade    http://www.elliottjohnwesq.co.uk  \n",
       "Veness       http://www.champagneroom.co.uk  "
      ]
     },
     "execution_count": 17,
     "metadata": {},
     "output_type": "execute_result"
    }
   ],
   "source": [
    "dataNew.loc[['Andrade', 'Veness']]  # 没有逗号选择的是行索引，这里选择的是行索引为 ['Andrade', 'Veness'] 两行"
   ]
  },
  {
   "cell_type": "code",
   "execution_count": 18,
   "metadata": {
    "collapsed": false
   },
   "outputs": [
    {
     "data": {
      "text/html": [
       "<div>\n",
       "<table border=\"1\" class=\"dataframe\">\n",
       "  <thead>\n",
       "    <tr style=\"text-align: right;\">\n",
       "      <th></th>\n",
       "      <th>first_name</th>\n",
       "      <th>address</th>\n",
       "      <th>city</th>\n",
       "    </tr>\n",
       "    <tr>\n",
       "      <th>last_name</th>\n",
       "      <th></th>\n",
       "      <th></th>\n",
       "      <th></th>\n",
       "    </tr>\n",
       "  </thead>\n",
       "  <tbody>\n",
       "    <tr>\n",
       "      <th>Andrade</th>\n",
       "      <td>France</td>\n",
       "      <td>8 Moor Place</td>\n",
       "      <td>East Southbourne and Tuckton W</td>\n",
       "    </tr>\n",
       "    <tr>\n",
       "      <th>Veness</th>\n",
       "      <td>Tyisha</td>\n",
       "      <td>5396 Forth Street</td>\n",
       "      <td>Greets Green and Lyng Ward</td>\n",
       "    </tr>\n",
       "  </tbody>\n",
       "</table>\n",
       "</div>"
      ],
      "text/plain": [
       "          first_name            address                            city\n",
       "last_name                                                              \n",
       "Andrade       France       8 Moor Place  East Southbourne and Tuckton W\n",
       "Veness        Tyisha  5396 Forth Street      Greets Green and Lyng Ward"
      ]
     },
     "execution_count": 18,
     "metadata": {},
     "output_type": "execute_result"
    }
   ],
   "source": [
    "dataNew.loc[['Andrade', 'Veness'], ['first_name', 'address', 'city']]  # 逗号前是行， 逗号后是列"
   ]
  },
  {
   "cell_type": "markdown",
   "metadata": {},
   "source": [
    "**2b. Boolean / Logical indexing using .loc**\n",
    "\n",
    "Conditional selections with boolean arrays using `data.loc[<selection>]` is the most common method that I use with Pandas DataFrames. With boolean indexing or logical selection, you pass an array or Series of True/False values to the `.loc` indexer to select the rows where your Series has True values.\n",
    "\n",
    "In most use cases, you will make selections based on the values of different columns in your data set.\n",
    "\n",
    "For example, the statement `data['first_name'] == 'Antonio']` produces a Pandas Series with a True/False value for every row in the 'data' DataFrame, where there are \"True\" values for the rows where the first_name is \"Antonio\". These type of boolean arrays can be passed directly to the `.loc` indexer as so:"
   ]
  },
  {
   "cell_type": "code",
   "execution_count": 19,
   "metadata": {
    "collapsed": false,
    "scrolled": true
   },
   "outputs": [
    {
     "data": {
      "text/html": [
       "<div>\n",
       "<table border=\"1\" class=\"dataframe\">\n",
       "  <thead>\n",
       "    <tr style=\"text-align: right;\">\n",
       "      <th></th>\n",
       "      <th>first_name</th>\n",
       "      <th>company_name</th>\n",
       "      <th>address</th>\n",
       "      <th>city</th>\n",
       "      <th>county</th>\n",
       "      <th>postal</th>\n",
       "      <th>phone1</th>\n",
       "      <th>phone2</th>\n",
       "      <th>email</th>\n",
       "      <th>web</th>\n",
       "    </tr>\n",
       "    <tr>\n",
       "      <th>last_name</th>\n",
       "      <th></th>\n",
       "      <th></th>\n",
       "      <th></th>\n",
       "      <th></th>\n",
       "      <th></th>\n",
       "      <th></th>\n",
       "      <th></th>\n",
       "      <th></th>\n",
       "      <th></th>\n",
       "      <th></th>\n",
       "    </tr>\n",
       "  </thead>\n",
       "  <tbody>\n",
       "    <tr>\n",
       "      <th>Villamarin</th>\n",
       "      <td>Antonio</td>\n",
       "      <td>Combs Sheetmetal</td>\n",
       "      <td>353 Standish St #8264</td>\n",
       "      <td>Little Parndon and Hare Street</td>\n",
       "      <td>Hertfordshire</td>\n",
       "      <td>CM20 2HT</td>\n",
       "      <td>01559-403415</td>\n",
       "      <td>01388-777812</td>\n",
       "      <td>antonio.villamarin@gmail.com</td>\n",
       "      <td>http://www.combssheetmetal.co.uk</td>\n",
       "    </tr>\n",
       "    <tr>\n",
       "      <th>Glasford</th>\n",
       "      <td>Antonio</td>\n",
       "      <td>Saint Thomas Creations</td>\n",
       "      <td>425 Howley St</td>\n",
       "      <td>Gaer Community</td>\n",
       "      <td>Newport</td>\n",
       "      <td>NP20 3DE</td>\n",
       "      <td>01463-409090</td>\n",
       "      <td>01242-318420</td>\n",
       "      <td>antonio_glasford@glasford.co.uk</td>\n",
       "      <td>http://www.saintthomascreations.co.uk</td>\n",
       "    </tr>\n",
       "    <tr>\n",
       "      <th>Heilig</th>\n",
       "      <td>Antonio</td>\n",
       "      <td>Radisson Suite Hotel</td>\n",
       "      <td>35 Elton St #3</td>\n",
       "      <td>Ipplepen</td>\n",
       "      <td>Devon</td>\n",
       "      <td>TQ12 5LL</td>\n",
       "      <td>01324-171614</td>\n",
       "      <td>01442-946357</td>\n",
       "      <td>antonio.heilig@gmail.com</td>\n",
       "      <td>http://www.radissonsuitehotel.co.uk</td>\n",
       "    </tr>\n",
       "  </tbody>\n",
       "</table>\n",
       "</div>"
      ],
      "text/plain": [
       "           first_name            company_name                address  \\\n",
       "last_name                                                              \n",
       "Villamarin    Antonio        Combs Sheetmetal  353 Standish St #8264   \n",
       "Glasford      Antonio  Saint Thomas Creations          425 Howley St   \n",
       "Heilig        Antonio    Radisson Suite Hotel         35 Elton St #3   \n",
       "\n",
       "                                      city         county    postal  \\\n",
       "last_name                                                             \n",
       "Villamarin  Little Parndon and Hare Street  Hertfordshire  CM20 2HT   \n",
       "Glasford                    Gaer Community        Newport  NP20 3DE   \n",
       "Heilig                            Ipplepen          Devon  TQ12 5LL   \n",
       "\n",
       "                  phone1        phone2                            email  \\\n",
       "last_name                                                                 \n",
       "Villamarin  01559-403415  01388-777812     antonio.villamarin@gmail.com   \n",
       "Glasford    01463-409090  01242-318420  antonio_glasford@glasford.co.uk   \n",
       "Heilig      01324-171614  01442-946357         antonio.heilig@gmail.com   \n",
       "\n",
       "                                              web  \n",
       "last_name                                          \n",
       "Villamarin       http://www.combssheetmetal.co.uk  \n",
       "Glasford    http://www.saintthomascreations.co.uk  \n",
       "Heilig        http://www.radissonsuitehotel.co.uk  "
      ]
     },
     "execution_count": 19,
     "metadata": {},
     "output_type": "execute_result"
    }
   ],
   "source": [
    "# 这里是选择行，选择那些 ['first_name'] == 'Antonio'] 的行\n",
    "dataNew.loc[dataNew['first_name']=='Antonio']"
   ]
  },
  {
   "cell_type": "code",
   "execution_count": 20,
   "metadata": {
    "collapsed": false
   },
   "outputs": [
    {
     "data": {
      "text/html": [
       "<div>\n",
       "<table border=\"1\" class=\"dataframe\">\n",
       "  <thead>\n",
       "    <tr style=\"text-align: right;\">\n",
       "      <th></th>\n",
       "      <th>company_name</th>\n",
       "      <th>email</th>\n",
       "      <th>phone1</th>\n",
       "    </tr>\n",
       "    <tr>\n",
       "      <th>last_name</th>\n",
       "      <th></th>\n",
       "      <th></th>\n",
       "      <th></th>\n",
       "    </tr>\n",
       "  </thead>\n",
       "  <tbody>\n",
       "    <tr>\n",
       "      <th>Villamarin</th>\n",
       "      <td>Combs Sheetmetal</td>\n",
       "      <td>antonio.villamarin@gmail.com</td>\n",
       "      <td>01559-403415</td>\n",
       "    </tr>\n",
       "    <tr>\n",
       "      <th>Glasford</th>\n",
       "      <td>Saint Thomas Creations</td>\n",
       "      <td>antonio_glasford@glasford.co.uk</td>\n",
       "      <td>01463-409090</td>\n",
       "    </tr>\n",
       "    <tr>\n",
       "      <th>Heilig</th>\n",
       "      <td>Radisson Suite Hotel</td>\n",
       "      <td>antonio.heilig@gmail.com</td>\n",
       "      <td>01324-171614</td>\n",
       "    </tr>\n",
       "  </tbody>\n",
       "</table>\n",
       "</div>"
      ],
      "text/plain": [
       "                      company_name                            email  \\\n",
       "last_name                                                             \n",
       "Villamarin        Combs Sheetmetal     antonio.villamarin@gmail.com   \n",
       "Glasford    Saint Thomas Creations  antonio_glasford@glasford.co.uk   \n",
       "Heilig        Radisson Suite Hotel         antonio.heilig@gmail.com   \n",
       "\n",
       "                  phone1  \n",
       "last_name                 \n",
       "Villamarin  01559-403415  \n",
       "Glasford    01463-409090  \n",
       "Heilig      01324-171614  "
      ]
     },
     "execution_count": 20,
     "metadata": {},
     "output_type": "execute_result"
    }
   ],
   "source": [
    "# 逗号前是选择行，逗号后是选择列\n",
    "# 选择那些 ['first_name'] == 'Antonio'] 的行，并选择指定的列\n",
    "dataNew.loc[dataNew['first_name']=='Antonio', ['company_name', 'email', 'phone1']]"
   ]
  },
  {
   "cell_type": "code",
   "execution_count": 21,
   "metadata": {
    "collapsed": false
   },
   "outputs": [
    {
     "data": {
      "text/plain": [
       "last_name\n",
       "Villamarin       antonio.villamarin@gmail.com\n",
       "Glasford      antonio_glasford@glasford.co.uk\n",
       "Heilig               antonio.heilig@gmail.com\n",
       "Name: email, dtype: object"
      ]
     },
     "execution_count": 21,
     "metadata": {},
     "output_type": "execute_result"
    }
   ],
   "source": [
    "# 这里 'email' 是个 String，所以会返回 Series\n",
    "dataNew.loc[dataNew['first_name']=='Antonio', 'email'] "
   ]
  },
  {
   "cell_type": "code",
   "execution_count": 22,
   "metadata": {
    "collapsed": false
   },
   "outputs": [
    {
     "data": {
      "text/html": [
       "<div>\n",
       "<table border=\"1\" class=\"dataframe\">\n",
       "  <thead>\n",
       "    <tr style=\"text-align: right;\">\n",
       "      <th></th>\n",
       "      <th>email</th>\n",
       "    </tr>\n",
       "    <tr>\n",
       "      <th>last_name</th>\n",
       "      <th></th>\n",
       "    </tr>\n",
       "  </thead>\n",
       "  <tbody>\n",
       "    <tr>\n",
       "      <th>Villamarin</th>\n",
       "      <td>antonio.villamarin@gmail.com</td>\n",
       "    </tr>\n",
       "    <tr>\n",
       "      <th>Glasford</th>\n",
       "      <td>antonio_glasford@glasford.co.uk</td>\n",
       "    </tr>\n",
       "    <tr>\n",
       "      <th>Heilig</th>\n",
       "      <td>antonio.heilig@gmail.com</td>\n",
       "    </tr>\n",
       "  </tbody>\n",
       "</table>\n",
       "</div>"
      ],
      "text/plain": [
       "                                      email\n",
       "last_name                                  \n",
       "Villamarin     antonio.villamarin@gmail.com\n",
       "Glasford    antonio_glasford@glasford.co.uk\n",
       "Heilig             antonio.heilig@gmail.com"
      ]
     },
     "execution_count": 22,
     "metadata": {},
     "output_type": "execute_result"
    }
   ],
   "source": [
    "# ['email'] 是个 list，所以会返回 DataFrame\n",
    "dataNew.loc[dataNew['first_name']=='Antonio', ['email']]"
   ]
  },
  {
   "cell_type": "code",
   "execution_count": null,
   "metadata": {
    "collapsed": true
   },
   "outputs": [],
   "source": []
  }
 ],
 "metadata": {
  "kernelspec": {
   "display_name": "Python [conda root]",
   "language": "python",
   "name": "conda-root-py"
  },
  "language_info": {
   "codemirror_mode": {
    "name": "ipython",
    "version": 3
   },
   "file_extension": ".py",
   "mimetype": "text/x-python",
   "name": "python",
   "nbconvert_exporter": "python",
   "pygments_lexer": "ipython3",
   "version": "3.5.2"
  }
 },
 "nbformat": 4,
 "nbformat_minor": 1
}
